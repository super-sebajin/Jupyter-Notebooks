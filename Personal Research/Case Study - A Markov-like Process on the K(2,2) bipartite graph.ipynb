{
 "cells": [
  {
   "cell_type": "markdown",
   "id": "e3a0a7e2",
   "metadata": {},
   "source": [
    "# Abstract:\n",
    "A stochastic process is a mathematical model of a time-dependent state-system where transitions from one state to another are dictated by a set of probabilities. I will attempt to use a process based on Markov-Chains on the complete bipartite graph of 4 vertices and 4 edges for hamiltonian cycles (or walks) on the graph. However, a Markov-Chain requires the system to be \"memory-less\" of its previous states, as well as permitting loops and multiple directed edges, thus is the reason for this being a \"markov-like\" process. For transition matrices, the matrices commonly used for graph representation will be used. However, the rows of these matrices will have probabilites instead of $1$s, with an invariant that the entries in the rows all sum to $1$:\n",
    "\n",
    "$$\\sum_{j=1}^{n} a_{i,j} = \\sum_{j=1}^{n} \\mathbf{P}_{j}(X=x) = 1.$$\n",
    "Note that we assume a discrete uniform probability distribution."
   ]
  },
  {
   "cell_type": "code",
   "execution_count": null,
   "id": "4db39f78",
   "metadata": {},
   "outputs": [],
   "source": []
  },
  {
   "cell_type": "markdown",
   "id": "f6c12320",
   "metadata": {},
   "source": [
    "### Graph Representation:\n",
    "We will use two matrices for our graph representation:\n",
    "    - The graph's adjacency matrix A,\n",
    "    - and the graph's incidence matrix I\n",
    "    "
   ]
  },
  {
   "cell_type": "code",
   "execution_count": 27,
   "id": "13a92753",
   "metadata": {},
   "outputs": [],
   "source": [
    "#Relevant imports and global function calls, as well as built-ins\n",
    "from IPython.display import display, Markdown, Image\n",
    "import numpy\n",
    "numpy.set_printoptions(precision= 3, suppress=False)"
   ]
  },
  {
   "cell_type": "code",
   "execution_count": 48,
   "id": "a288603f",
   "metadata": {},
   "outputs": [],
   "source": [
    "#Important functions\n",
    "\n",
    "#Function 1: xA_1 - all it does is perform the matrix multiplcation of a row vector x and a square matrix A0\n",
    "def xA_1(vector_x, matrix_A):\n",
    "    x_A = []\n",
    "    for row in range(len(matrix_A)):\n",
    "        lin_comb = 0\n",
    "        for element in range(len(vector_x)):\n",
    "            lin_comb += matrix_A[row][element]*vector_x[element] \n",
    "        x_A.append(lin_comb)    \n",
    "    return(x_A)\n",
    "\n",
    "#Function 2: xA_1 - works the same as xA but meant to handle numpy.arrays\n",
    "def xA_2(vector_x, matrix_A):\n",
    "    return(numpy.dot(matrix_A, vector_x))\n",
    "\n",
    "#Function 3: gen_range - will make use of a generator to generate numbers without creating a list like range()\n",
    "def gen_range(n):\n",
    "    for i in range(n):\n",
    "        yield i\n",
    "\n"
   ]
  },
  {
   "cell_type": "code",
   "execution_count": 49,
   "id": "6146bc9d",
   "metadata": {},
   "outputs": [
    {
     "name": "stdout",
     "output_type": "stream",
     "text": [
      "[0 0 1 1]\n"
     ]
    }
   ],
   "source": [
    "#Adjacency matrix for the K(2,2) bipartite graph\n",
    "A = numpy.array([[0,0,1,0],\n",
    "                 [0,0,1,1],\n",
    "                 [1,1,0,0],\n",
    "                 [1,1,0,0]])\n",
    "\n",
    "#Incidence matrix for the K(2,2) bipartite graph\n",
    "I = numpy.array([[1,1,0,0],\n",
    "                 [0,0,1,1],\n",
    "                 [1,0,1,0],\n",
    "                 [0,1,0,1]])\n",
    "#Initial State Matrix - starting at vertex 1\n",
    "S0 = numpy.array([1,0,0,0])\n",
    "\n",
    "#Results from xA\n",
    "print(xA_2(S0,A))"
   ]
  },
  {
   "cell_type": "markdown",
   "id": "3b9f3302",
   "metadata": {},
   "source": [
    "### Probability spaces:\n",
    "We shall consider two spaces and for now, we present the first probability space. We know that the vertices on the $K_{2,2}$ bipartite graph are of the form:\n",
    "\n",
    "$$\n",
    "V = \\{v_{1},v_{2},v_{3},v_{4}\\} = \\{v_{1},v_{2}\\}\\bigcup\\{v_{3},v_{4}\\},\n",
    "$$\n",
    "\n",
    "where $\\{v_{1}, v_{2} \\} \\bigcap \\{v_{3}, v_{4} \\} = \\emptyset$. We will then take our vertex set to be our random variable $X_{V}$."
   ]
  },
  {
   "cell_type": "markdown",
   "id": "5b0134fa",
   "metadata": {},
   "source": [
    "#### Transition matrix 0:\n",
    "Transition matrix using the shape of A and $P(X=v_{i}) = \\frac{1}{4} = 0.5$ for all $v_{i}\\in X_{V}$. Denoted as $A_{0}$ and an initial state matrix $S_{0} = \\begin{bmatrix} 1 & 0& 0 & 0\\end{bmatrix}$, where each entry corresponds to a vertex. The walk considered is $\\{v_{1}, v_{3}, v_{2}, v_{4} \\}$, so we **know** that the probability $P(X_{v}=v_{1}) = 1$ for $S_{0}$.\n"
   ]
  },
  {
   "cell_type": "code",
   "execution_count": 50,
   "id": "8213cc57",
   "metadata": {},
   "outputs": [
    {
     "name": "stdout",
     "output_type": "stream",
     "text": [
      "After 10 million iterations, we see a constant [0.5 0.5 0.  0. ], we may call this a 'trivial' result.\n"
     ]
    }
   ],
   "source": [
    "#Transition matrix 0\n",
    "A0 = numpy.array([[0,0,0.5,0.5],\n",
    "                  [0,0,0.5,0.5],\n",
    "                  [0.5,0.5,0,0],\n",
    "                  [0.5,0.5,0,0]])\n",
    "#intial state matrix for A0\n",
    "s0 = numpy.array([1,0,0,0])\n",
    "\n",
    "for integer in gen_range(10_000_000):\n",
    "    s0 = xA_2(s0,A0)\n",
    "    \n",
    "print(\"After 10 million iterations, we see a constant {}, we may call this a 'trivial' result.\".format(s0))"
   ]
  },
  {
   "cell_type": "markdown",
   "id": "272e6682",
   "metadata": {},
   "source": [
    "This state matrix may *eventually* converge to the state matrix $s_{n=10000000} = \\begin{bmatrix} 0.5 & 0.5& 0 & 0\\end{bmatrix}$. This result may be called a \"trivial\" result and may be due to the fact that from any given vertex $v_{i}$, there can only be two choices to move to, hence a $50/50$ at all times."
   ]
  },
  {
   "cell_type": "markdown",
   "id": "1a260370",
   "metadata": {},
   "source": [
    "#### Transition matrix 1:\n",
    "This transition matrix' rows will have a distribution favoring the next state, from $s_{0}$ to $s_{1}$ which will correspond to the walk $\\{v_{1},v_{3}\\}$. Using the shape of $A$ and $X_{V}=\\{v_{1}, v_{2}, v_{3}, v_{4}\\} = \\{0, 0, 0.8, 0.2\\}$. Denoted as $A_{1}$ and an initial state matrix $s0 = \\begin{bmatrix} 1 & 0& 0 & 0\\end{bmatrix}$, where each entry corresponds to a vertex. The walk considered is $\\{v_{1}, v_{3}, v_{2}, v_{4} \\}$, so we **know** that the probability $P(X_{v}=v_{1}) = 1$ for $S_{0}$. \n"
   ]
  },
  {
   "cell_type": "code",
   "execution_count": 40,
   "id": "78c0abe6",
   "metadata": {},
   "outputs": [
    {
     "name": "stdout",
     "output_type": "stream",
     "text": [
      "After 10 million iterations, we see  [0.2 0.8 0.  0. ]\n"
     ]
    }
   ],
   "source": [
    "#Transition matrix 1\n",
    "A1 = numpy.array([[0,0,0.8,0.2],\n",
    "                  [0,0,0.8,0.2],\n",
    "                  [0.2,0.8,0,0],\n",
    "                  [0.2,0.8,0,0]])\n",
    "\n",
    "#intial state matrix for A1\n",
    "s1 = S0\n",
    "\n",
    "for integer in gen_range(10_000_000):\n",
    "    s1 = xA_2(s1,A1)\n",
    "print(\"After 10 million iterations, we see  {}\".format(s1))"
   ]
  },
  {
   "cell_type": "markdown",
   "id": "768e0574",
   "metadata": {},
   "source": [
    "This state matrix matrix may *eventually* converge to the state matrix $s_{n=10,000,000} = \\begin{bmatrix} 0.2 & 0.8& 0 & 0\\end{bmatrix}$."
   ]
  },
  {
   "cell_type": "markdown",
   "id": "2fcf5ecd",
   "metadata": {},
   "source": [
    "#### Transition matrix 2:\n",
    "This transition matrix' rows will have a distribution favoring the next state, from $s_{0}$ to $s_{1}$ which will correspond to the walk $\\{v_{1},v_{3}\\}$. Using the shape of $A$ and $X_{V}=\\{v_{1}, v_{2}, v_{3}, v_{4}\\} = \\{0, 0, 0.65, 0.35\\}$. Denoted as $A_{2}$ and an initial state matrix $s0 = \\begin{bmatrix} 1 & 0& 0 & 0\\end{bmatrix}$, where each entry corresponds to a vertex. The walk considered is $\\{v_{1}, v_{3}, v_{2}, v_{4} \\}$, so we **know** that the probability $P(X_{v}=v_{1}) = 1$ for $S_{0}$. \n"
   ]
  },
  {
   "cell_type": "code",
   "execution_count": 41,
   "id": "642248f6",
   "metadata": {},
   "outputs": [
    {
     "name": "stdout",
     "output_type": "stream",
     "text": [
      "After 10 million iterations, we see  [0.35 0.65 0.   0.  ]\n"
     ]
    }
   ],
   "source": [
    "#Transition matrix 2\n",
    "A2 = numpy.array([[0,0,0.65,0.35],\n",
    "                  [0,0,0.65,0.35],\n",
    "                  [0.35,0.65,0,0],\n",
    "                  [0.35,0.65,0,0]])\n",
    "\n",
    "#intial state matrix for A2\n",
    "s2 = S0\n",
    "\n",
    "for integer in gen_range(10_000_000):\n",
    "    s2 = xA_2(s2,A2)\n",
    "print(\"After 10 million iterations, we see  {}\".format(s2))"
   ]
  },
  {
   "cell_type": "markdown",
   "id": "7f097870",
   "metadata": {},
   "source": [
    "This state matrix matrix may *eventually* converge to the state matrix $s_{n=10,000,000} = \\begin{bmatrix} 0.35 & 0.65& 0 & 0\\end{bmatrix}$."
   ]
  },
  {
   "cell_type": "markdown",
   "id": "0c23f8fc",
   "metadata": {},
   "source": [
    "##### Observation 1:\n",
    "It would seem that since we have chosen our initial state marix to be $S_{0} =\\begin{bmatrix}1&0&0&0\\end{bmatrix}$ the $n^{th}$ state matrix $S_{n}$ seems to be converging to the same distribution as our $X_{V}$'s, with the exact probabilities prescribed to the the vertices in $V_{1}$, instead of those in $V_{2}$ (a sort of 'shift' in proabilities). We will continue to use our initial state matrix $S_{0}$ for our calculations on the graph's incidence matrix $I$."
   ]
  },
  {
   "cell_type": "code",
   "execution_count": null,
   "id": "f41c7819",
   "metadata": {},
   "outputs": [],
   "source": []
  }
 ],
 "metadata": {
  "kernelspec": {
   "display_name": "Python 3",
   "language": "python",
   "name": "python3"
  },
  "language_info": {
   "codemirror_mode": {
    "name": "ipython",
    "version": 3
   },
   "file_extension": ".py",
   "mimetype": "text/x-python",
   "name": "python",
   "nbconvert_exporter": "python",
   "pygments_lexer": "ipython3",
   "version": "3.8.8"
  }
 },
 "nbformat": 4,
 "nbformat_minor": 5
}
