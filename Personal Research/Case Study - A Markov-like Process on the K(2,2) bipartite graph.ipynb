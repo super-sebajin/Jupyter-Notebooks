{
 "cells": [
  {
   "cell_type": "markdown",
   "id": "e3a0a7e2",
   "metadata": {},
   "source": [
    "# Abstract:\n",
    "A stochastic process is a mathematical model of a time-dependent state-system where transitions from one state to another are dictated by a set of probabilities. I will attempt to use a process based on Markov-Chains on the complete bipartite graph of 4 vertices and 4 edges for hamiltonian cycles (or walks) on the graph. However, a Markov-Chain requires the system to be \"memory-less\" of its previous states, as well as permitting loops and multiple directed edges, thus is the reason for this being a \"markov-like\" process. For transition matrices, the matrices commonly used for graph representation will be used. However, the rows of these matrices will have probabilites instead of $1$s, with an invariant that the entries in the rows all sum to $1$:\n",
    "\n",
    "$$\\sum_{j=1}^{n} a_{i,j} = \\sum_{j=1}^{n} \\mathbf{P}_{j}(X=x) = 1.$$\n",
    "Note that we assume a discrete uniform probability distribution."
   ]
  },
  {
   "cell_type": "markdown",
   "id": "f6c12320",
   "metadata": {},
   "source": [
    "### Graph Representation:\n",
    "We will use two matrices for our graph representation:\n",
    "    - The graph's adjacency matrix A,\n",
    "    - and the graph's incidence matrix I\n",
    "    "
   ]
  },
  {
   "cell_type": "code",
   "execution_count": 69,
   "id": "13a92753",
   "metadata": {},
   "outputs": [],
   "source": [
    "#Relevant imports\n",
    "from IPython.display import display, Markdown"
   ]
  },
  {
   "cell_type": "code",
   "execution_count": 70,
   "id": "a288603f",
   "metadata": {},
   "outputs": [],
   "source": [
    "#Important functions\n",
    "\n",
    "#Function 1: xA - all it does is perform the matrix multiplcation of a row vector x and a square matrix A0\n",
    "def xA(vector_x, matrix_A):\n",
    "    x_A = []\n",
    "    for row in range(len(matrix_A)):\n",
    "        lin_comb = 0\n",
    "        for element in range(len(vector_x)):\n",
    "            lin_comb += matrix_A[row][element]*vector_x[element] \n",
    "        x_A.append(lin_comb)    \n",
    "        \n",
    "            \n",
    "    return(x_A)"
   ]
  },
  {
   "cell_type": "code",
   "execution_count": 71,
   "id": "6146bc9d",
   "metadata": {},
   "outputs": [
    {
     "name": "stdout",
     "output_type": "stream",
     "text": [
      "[0, 0, 1, 1]\n"
     ]
    }
   ],
   "source": [
    "#Adjacency matrix for the K(2,2) bipartite graph\n",
    "A = [[0,0,1,0],\n",
    "     [0,0,1,1],\n",
    "     [1,1,0,0],\n",
    "     [1,1,0,0]]\n",
    "\n",
    "#Incidence matrix for the K(2,2) bipartite graph\n",
    "I = [[1,1,0,0],\n",
    "     [0,0,1,1],\n",
    "     [1,0,1,0],\n",
    "     [0,1,0,1]]\n",
    "#Initial State Matrix - starting at vertex 1\n",
    "S0 = [1,0,0,0]\n",
    "\n",
    "#Results from xA\n",
    "print(xA(S0,A))"
   ]
  },
  {
   "cell_type": "markdown",
   "id": "3b9f3302",
   "metadata": {},
   "source": [
    "### Probability spaces:\n",
    "We shall consider two spaces and for now, we present the first probability space. We know that the vertices on the $K_{2,2}$ bipartite graph are of the form:\n",
    "\n",
    "$$\n",
    "V = \\{v_{1},v_{2},v_{3},v_{4}\\} = \\{v_{1},v_{2}\\}\\bigcup\\{v_{3},v_{4}\\},\n",
    "$$\n",
    "\n",
    "where $\\{v_{1}, v_{2} \\} \\bigcap \\{v_{3}, v_{4} \\} = \\emptyset$. We will then take our vertex set to be our random variable $X_{V}$."
   ]
  },
  {
   "cell_type": "markdown",
   "id": "5b0134fa",
   "metadata": {},
   "source": [
    "#### Transition matrix 0:\n",
    "Transition matrix using A and $P(X=v_{i}) = \\frac{1}{4} = 0.5$ for all $v_{i}\\in X_{V}$. Denoted as $A_{0}$ and an initial state matrix $s0 = \\begin{bmatrix} 1 & 0& 0 & 0\\end{bmatrix}$, where each entry corresponds to a vertex. The walk considered is $\\{v_{1}, v_{3}, v_{2}, v_{4} \\}$, so we **know** that the probability $P(X_{v}=v_{1}) = 1$ for $S_{0}$.\n"
   ]
  },
  {
   "cell_type": "code",
   "execution_count": 72,
   "id": "8213cc57",
   "metadata": {},
   "outputs": [
    {
     "name": "stdout",
     "output_type": "stream",
     "text": [
      "After 10 million iterations, we see a constant [0.5, 0.5, 0.0, 0.0], we may call this a 'trivial' result.\n"
     ]
    }
   ],
   "source": [
    "#Transiation matrix 0\n",
    "A0 = [[0,0,0.5,0.5],\n",
    "      [0,0,0.5,0.5],\n",
    "      [0.5,0.5,0,0],\n",
    "      [0.5,0.5,0,0]]\n",
    "#intial state matrix for A0\n",
    "s0 = S0\n",
    "\n",
    "for integer in range(10000000):\n",
    "    s0 = xA(s0,A0)\n",
    "    \n",
    "print(\"After 10 million iterations, we see a constant {}, we may call this a 'trivial' result.\".format(s0))"
   ]
  },
  {
   "cell_type": "markdown",
   "id": "272e6682",
   "metadata": {},
   "source": [
    "This transition matrix may *eventually* converge to the state matrix $s_{n=100000000} = \\begin{bmatrix} 0.5 & 0.5& 0 & 0\\end{bmatrix}$. This result may be called a \"trivial\" result and may be due to the fact that from any given vertex $v_{i}$, there can only be two choices to move to, hence a $50/50$ at all times."
   ]
  },
  {
   "cell_type": "markdown",
   "id": "1a260370",
   "metadata": {},
   "source": [
    "#### Transition matrix 1:\n",
    "This transition matrix' rows will have a distribution favoring the next state, from $s_{0}$ to $s_{1}$ which will correspond to the walk $\\{v_{1},v_{3}\\}$. Using the structure of $A$ and $X_{V}\\{v_{1}, v_{2}, v_{3}, v_{4}\\} = \\{0, 0, 0.8, 0.2\\}$. Denoted as $A_{1}$ and an initial state matrix $s0 = \\begin{bmatrix} 1 & 0& 0 & 0\\end{bmatrix}$, where each entry corresponds to a vertex. The walk considered is $\\{v_{1}, v_{3}, v_{2}, v_{4} \\}$, so we **know** that the probability $P(X_{v}=v_{1}) = 1$ for $S_{0}$. \n"
   ]
  },
  {
   "cell_type": "code",
   "execution_count": 73,
   "id": "78c0abe6",
   "metadata": {},
   "outputs": [
    {
     "name": "stdout",
     "output_type": "stream",
     "text": [
      "After 10 million iterations, we see  [0.20000000000000004, 0.20000000000000004, 0.0, 0.0]\n"
     ]
    }
   ],
   "source": [
    "#Transition matrix 1\n",
    "A1 = [[0,0,0.8,0.2],\n",
    "      [0,0,0.8,0.2],\n",
    "      [0.2,0.8,0,0],\n",
    "      [0.2,0.8,0,0]]\n",
    "\n",
    "#intial state matrix for A1\n",
    "s0 = S0\n",
    "\n",
    "for integer in range(10000000):\n",
    "    s1 = xA(s1,A1)\n",
    "print(\"After 10 million iterations, we see  {}\".format(s1))"
   ]
  },
  {
   "cell_type": "markdown",
   "id": "768e0574",
   "metadata": {},
   "source": [
    "This transition matrix may *eventually* converge to the state matrix $s_{n=100000000} = \\begin{bmatrix} 0.2 & 0.2& 0 & 0\\end{bmatrix}$."
   ]
  }
 ],
 "metadata": {
  "kernelspec": {
   "display_name": "Python 3",
   "language": "python",
   "name": "python3"
  },
  "language_info": {
   "codemirror_mode": {
    "name": "ipython",
    "version": 3
   },
   "file_extension": ".py",
   "mimetype": "text/x-python",
   "name": "python",
   "nbconvert_exporter": "python",
   "pygments_lexer": "ipython3",
   "version": "3.8.8"
  }
 },
 "nbformat": 4,
 "nbformat_minor": 5
}
